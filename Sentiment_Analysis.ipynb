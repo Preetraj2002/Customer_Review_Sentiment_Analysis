{
  "nbformat": 4,
  "nbformat_minor": 0,
  "metadata": {
    "colab": {
      "provenance": [],
      "authorship_tag": "ABX9TyMbnYhnaSgdRU92Z/yxV28x",
      "include_colab_link": true
    },
    "kernelspec": {
      "name": "python3",
      "display_name": "Python 3"
    },
    "language_info": {
      "name": "python"
    }
  },
  "cells": [
    {
      "cell_type": "markdown",
      "metadata": {
        "id": "view-in-github",
        "colab_type": "text"
      },
      "source": [
        "<a href=\"https://colab.research.google.com/github/Preetraj2002/Customer_Review_Sentiment_Analysis/blob/main/Sentiment_Analysis.ipynb\" target=\"_parent\"><img src=\"https://colab.research.google.com/assets/colab-badge.svg\" alt=\"Open In Colab\"/></a>"
      ]
    },
    {
      "cell_type": "markdown",
      "source": [
        "#Step 0 : Read in Data and NTKL Basics"
      ],
      "metadata": {
        "id": "cOXeIolmAtIf"
      }
    },
    {
      "cell_type": "code",
      "source": [
        "\n",
        "import pandas as pd\n",
        "import numpy as np\n",
        "import matplotlib.pyplot as plt\n",
        "import seaborn as sns\n",
        "\n",
        "plt.style.use('ggplot')\n",
        "\n",
        "import nltk\n",
        "nltk.download('punkt')\n",
        "nltk.download('averaged_perceptron_tagger')\n",
        "\n"
      ],
      "metadata": {
        "colab": {
          "base_uri": "https://localhost:8080/"
        },
        "id": "cdCDDth-AtaW",
        "outputId": "bd5480b8-7374-4d2c-9e5b-682fc72e9932"
      },
      "execution_count": null,
      "outputs": [
        {
          "output_type": "stream",
          "name": "stderr",
          "text": [
            "[nltk_data] Downloading package punkt to /root/nltk_data...\n",
            "[nltk_data]   Package punkt is already up-to-date!\n",
            "[nltk_data] Downloading package averaged_perceptron_tagger to\n",
            "[nltk_data]     /root/nltk_data...\n",
            "[nltk_data]   Unzipping taggers/averaged_perceptron_tagger.zip.\n"
          ]
        },
        {
          "output_type": "execute_result",
          "data": {
            "text/plain": [
              "True"
            ]
          },
          "metadata": {},
          "execution_count": 26
        }
      ]
    },
    {
      "cell_type": "markdown",
      "source": [
        "Import files from Google drive to colab"
      ],
      "metadata": {
        "id": "MYSZVfe5Dio0"
      }
    },
    {
      "cell_type": "code",
      "source": [
        "!gdown --id 1iXxT5XszWKJhp0QiNYGmSRJownpyXEkE"
      ],
      "metadata": {
        "colab": {
          "base_uri": "https://localhost:8080/"
        },
        "id": "b6_-YVPbDrBT",
        "outputId": "01730ab6-7fa2-4a96-aee9-f658b3426c09"
      },
      "execution_count": null,
      "outputs": [
        {
          "output_type": "stream",
          "name": "stdout",
          "text": [
            "/usr/local/lib/python3.10/dist-packages/gdown/cli.py:121: FutureWarning: Option `--id` was deprecated in version 4.3.1 and will be removed in 5.0. You don't need to pass it anymore to use a file ID.\n",
            "  warnings.warn(\n",
            "Downloading...\n",
            "From: https://drive.google.com/uc?id=1iXxT5XszWKJhp0QiNYGmSRJownpyXEkE\n",
            "To: /content/Reviews.csv\n",
            "100% 301M/301M [00:02<00:00, 146MB/s]\n"
          ]
        }
      ]
    },
    {
      "cell_type": "markdown",
      "source": [
        "Read in data"
      ],
      "metadata": {
        "id": "iPdirbZDBC6-"
      }
    },
    {
      "cell_type": "code",
      "source": [
        "df = pd.read_csv(\"Reviews.csv\")\n",
        "print(df.shape)\n",
        "#cutting down the size\n",
        "df = df.head(500)\n",
        "print(df.shape)\n",
        "print(df)\n"
      ],
      "metadata": {
        "colab": {
          "base_uri": "https://localhost:8080/"
        },
        "id": "FcKYVpxxA5OH",
        "outputId": "24a23049-63a1-4b17-f1eb-b1098e8a00a8"
      },
      "execution_count": null,
      "outputs": [
        {
          "output_type": "stream",
          "name": "stdout",
          "text": [
            "(568454, 10)\n",
            "(500, 10)\n",
            "      Id   ProductId          UserId                      ProfileName  \\\n",
            "0      1  B001E4KFG0  A3SGXH7AUHU8GW                       delmartian   \n",
            "1      2  B00813GRG4  A1D87F6ZCVE5NK                           dll pa   \n",
            "2      3  B000LQOCH0   ABXLMWJIXXAIN  Natalia Corres \"Natalia Corres\"   \n",
            "3      4  B000UA0QIQ  A395BORC6FGVXV                             Karl   \n",
            "4      5  B006K2ZZ7K  A1UQRSCLF8GW1T    Michael D. Bigham \"M. Wassir\"   \n",
            "..   ...         ...             ...                              ...   \n",
            "495  496  B000G6RYNE   APGAA43E3WPN7                           Darren   \n",
            "496  497  B000G6RYNE    ABR7HU5H1KNE                            Keith   \n",
            "497  498  B000G6RYNE   AJQD2WWJYOYFQ                          bubbles   \n",
            "498  499  B000G6RYNE  A16YH487W9ZYO0                 Bruce G. Lindsay   \n",
            "499  500  B000G6RYNE   A83YQC1XOU4CS                         J. Baker   \n",
            "\n",
            "     HelpfulnessNumerator  HelpfulnessDenominator  Score        Time  \\\n",
            "0                       1                       1      5  1303862400   \n",
            "1                       0                       0      1  1346976000   \n",
            "2                       1                       1      4  1219017600   \n",
            "3                       3                       3      2  1307923200   \n",
            "4                       0                       0      5  1350777600   \n",
            "..                    ...                     ...    ...         ...   \n",
            "495                     0                       0      5  1201392000   \n",
            "496                     0                       0      5  1196726400   \n",
            "497                     0                       0      4  1186617600   \n",
            "498                     0                       0      4  1184198400   \n",
            "499                     0                       0      5  1183420800   \n",
            "\n",
            "                             Summary  \\\n",
            "0              Good Quality Dog Food   \n",
            "1                  Not as Advertised   \n",
            "2              \"Delight\" says it all   \n",
            "3                     Cough Medicine   \n",
            "4                        Great taffy   \n",
            "..                               ...   \n",
            "495                    amazing chips   \n",
            "496                   Best Chip Ever   \n",
            "497  Tangy, spicy, and sweet- oh my!   \n",
            "498        An indulgence with a bite   \n",
            "499                The best I've had   \n",
            "\n",
            "                                                  Text  \n",
            "0    I have bought several of the Vitality canned d...  \n",
            "1    Product arrived labeled as Jumbo Salted Peanut...  \n",
            "2    This is a confection that has been around a fe...  \n",
            "3    If you are looking for the secret ingredient i...  \n",
            "4    Great taffy at a great price.  There was a wid...  \n",
            "..                                                 ...  \n",
            "495  i rarely eat chips but i saw these and tried t...  \n",
            "496  This is easily the best potato chip that I hav...  \n",
            "497  Kettle Chips Spicy Thai potato chips have the ...  \n",
            "498  Okay, I should not eat potato chips, nor shoul...  \n",
            "499  I don't write very many reviews but I have to ...  \n",
            "\n",
            "[500 rows x 10 columns]\n"
          ]
        }
      ]
    },
    {
      "cell_type": "markdown",
      "source": [
        "\n",
        "Quick EDA\n"
      ],
      "metadata": {
        "id": "PpMvolReBZ61"
      }
    },
    {
      "cell_type": "code",
      "source": [
        "ax = df['Score'].value_counts().sort_index()\\\n",
        "    .plot(kind='bar',\n",
        "          title=\"Count of Reviews by Stars\",\n",
        "          figsize = (10,5))\n",
        "ax.set_xlabel(\"Review Stars\")\n",
        "plt.show()\n"
      ],
      "metadata": {
        "colab": {
          "base_uri": "https://localhost:8080/",
          "height": 373
        },
        "id": "PfPiNE9qBiwM",
        "outputId": "d99234a1-7a22-42c4-d5d4-9b9e3f16f1aa"
      },
      "execution_count": null,
      "outputs": [
        {
          "output_type": "display_data",
          "data": {
            "text/plain": [
              "<Figure size 1000x500 with 1 Axes>"
            ],
            "image/png": "[encoded data removed]"
          },
          "metadata": {}
        }
      ]
    },
    {
      "cell_type": "markdown",
      "source": [
        "\n",
        "Basic NLTK\n"
      ],
      "metadata": {
        "id": "YmTFMBTcBl7M"
      }
    },
    {
      "cell_type": "code",
      "source": [
        "example = df[\"Text\"][10]\n",
        "print(example)"
      ],
      "metadata": {
        "colab": {
          "base_uri": "https://localhost:8080/"
        },
        "id": "Lypzz4DCBoTE",
        "outputId": "4a0c1f5c-9715-4b2b-b373-f62a1f15fe66"
      },
      "execution_count": null,
      "outputs": [
        {
          "output_type": "stream",
          "name": "stdout",
          "text": [
            "I don't know if it's the cactus or the tequila or just the unique combination of ingredients, but the flavour of this hot sauce makes it one of a kind!  We picked up a bottle once on a trip we were on and brought it back home with us and were totally blown away!  When we realized that we simply couldn't find it anywhere in our city we were bummed.<br /><br />Now, because of the magic of the internet, we have a case of the sauce and are ecstatic because of it.<br /><br />If you love hot sauce..I mean really love hot sauce, but don't want a sauce that tastelessly burns your throat, grab a bottle of Tequila Picante Gourmet de Inclan.  Just realize that once you taste it, you will never want to use any other sauce.<br /><br />Thank you for the personal, incredible service!\n"
          ]
        }
      ]
    },
    {
      "cell_type": "code",
      "source": [
        "tokens = nltk.word_tokenize(example)\n",
        "tokens[:10]"
      ],
      "metadata": {
        "colab": {
          "base_uri": "https://localhost:8080/"
        },
        "id": "l4oC29EhOhGM",
        "outputId": "424b591d-5e5f-4228-ac4e-5289c05bd905"
      },
      "execution_count": null,
      "outputs": [
        {
          "output_type": "execute_result",
          "data": {
            "text/plain": [
              "['I', 'do', \"n't\", 'know', 'if', 'it', \"'s\", 'the', 'cactus', 'or']"
            ]
          },
          "metadata": {},
          "execution_count": 24
        }
      ]
    },
    {
      "cell_type": "markdown",
      "source": [
        "Tagging every word(token) with Part of Speech"
      ],
      "metadata": {
        "id": "n54OZu0fX-CS"
      }
    },
    {
      "cell_type": "code",
      "source": [
        "tagged = nltk.pos_tag(tokens)\n",
        "tagged[:10]"
      ],
      "metadata": {
        "colab": {
          "base_uri": "https://localhost:8080/"
        },
        "id": "rZxXlQQBT-2K",
        "outputId": "32319a59-3e5b-4418-a574-885bbcfda044"
      },
      "execution_count": null,
      "outputs": [
        {
          "output_type": "execute_result",
          "data": {
            "text/plain": [
              "[('I', 'PRP'),\n",
              " ('do', 'VBP'),\n",
              " (\"n't\", 'RB'),\n",
              " ('know', 'VB'),\n",
              " ('if', 'IN'),\n",
              " ('it', 'PRP'),\n",
              " (\"'s\", 'VBZ'),\n",
              " ('the', 'DT'),\n",
              " ('cactus', 'NN'),\n",
              " ('or', 'CC')]"
            ]
          },
          "metadata": {},
          "execution_count": 29
        }
      ]
    },
    {
      "cell_type": "code",
      "source": [
        "nltk.download('maxent_ne_chunker')\n",
        "nltk.download(\"words\")\n",
        "entities = nltk.chunk.ne_chunk(tagged)\n",
        "entities.pprint()"
      ],
      "metadata": {
        "colab": {
          "base_uri": "https://localhost:8080/"
        },
        "id": "KdwhQqaCY0Na",
        "outputId": "8a96a1ad-2079-4137-85da-a88216dc1285"
      },
      "execution_count": null,
      "outputs": [
        {
          "output_type": "stream",
          "name": "stdout",
          "text": [
            "(S\n",
            "  I/PRP\n",
            "  do/VBP\n",
            "  n't/RB\n",
            "  know/VB\n",
            "  if/IN\n",
            "  it/PRP\n",
            "  's/VBZ\n",
            "  the/DT\n",
            "  cactus/NN\n",
            "  or/CC\n",
            "  the/DT\n",
            "  tequila/NN\n",
            "  or/CC\n",
            "  just/RB\n",
            "  the/DT\n",
            "  unique/JJ\n",
            "  combination/NN\n",
            "  of/IN\n",
            "  ingredients/NNS\n",
            "  ,/,\n",
            "  but/CC\n",
            "  the/DT\n",
            "  flavour/NN\n",
            "  of/IN\n",
            "  this/DT\n",
            "  hot/JJ\n",
            "  sauce/NN\n",
            "  makes/VBZ\n",
            "  it/PRP\n",
            "  one/CD\n",
            "  of/IN\n",
            "  a/DT\n",
            "  kind/NN\n",
            "  !/.\n",
            "  We/PRP\n",
            "  picked/VBD\n",
            "  up/RP\n",
            "  a/DT\n",
            "  bottle/NN\n",
            "  once/RB\n",
            "  on/IN\n",
            "  a/DT\n",
            "  trip/NN\n",
            "  we/PRP\n",
            "  were/VBD\n",
            "  on/IN\n",
            "  and/CC\n",
            "  brought/VBD\n",
            "  it/PRP\n",
            "  back/RP\n",
            "  home/NN\n",
            "  with/IN\n",
            "  us/PRP\n",
            "  and/CC\n",
            "  were/VBD\n",
            "  totally/RB\n",
            "  blown/VBN\n",
            "  away/RB\n",
            "  !/.\n",
            "  When/WRB\n",
            "  we/PRP\n",
            "  realized/VBD\n",
            "  that/IN\n",
            "  we/PRP\n",
            "  simply/RB\n",
            "  could/MD\n",
            "  n't/RB\n",
            "  find/VB\n",
            "  it/PRP\n",
            "  anywhere/RB\n",
            "  in/IN\n",
            "  our/PRP$\n",
            "  city/NN\n",
            "  we/PRP\n",
            "  were/VBD\n",
            "  bummed./JJ\n",
            "  </NNP\n",
            "  br/NN\n",
            "  //NNP\n",
            "  >/NNP\n",
            "  </NNP\n",
            "  br/NN\n",
            "  //NNP\n",
            "  >/NNP\n",
            "  Now/RB\n",
            "  ,/,\n",
            "  because/IN\n",
            "  of/IN\n",
            "  the/DT\n",
            "  magic/NN\n",
            "  of/IN\n",
            "  the/DT\n",
            "  internet/NN\n",
            "  ,/,\n",
            "  we/PRP\n",
            "  have/VBP\n",
            "  a/DT\n",
            "  case/NN\n",
            "  of/IN\n",
            "  the/DT\n",
            "  sauce/NN\n",
            "  and/CC\n",
            "  are/VBP\n",
            "  ecstatic/JJ\n",
            "  because/IN\n",
            "  of/IN\n",
            "  it./JJ\n",
            "  </NNP\n",
            "  br/NN\n",
            "  //NNP\n",
            "  >/NNP\n",
            "  </NNP\n",
            "  br/NN\n",
            "  //NNP\n",
            "  >/NNP\n",
            "  If/IN\n",
            "  you/PRP\n",
            "  love/VBP\n",
            "  hot/JJ\n",
            "  sauce/NN\n",
            "  ../NN\n",
            "  I/PRP\n",
            "  mean/VBP\n",
            "  really/RB\n",
            "  love/VB\n",
            "  hot/JJ\n",
            "  sauce/NN\n",
            "  ,/,\n",
            "  but/CC\n",
            "  do/VBP\n",
            "  n't/RB\n",
            "  want/VB\n",
            "  a/DT\n",
            "  sauce/NN\n",
            "  that/WDT\n",
            "  tastelessly/RB\n",
            "  burns/VBZ\n",
            "  your/PRP$\n",
            "  throat/NN\n",
            "  ,/,\n",
            "  grab/VB\n",
            "  a/DT\n",
            "  bottle/NN\n",
            "  of/IN\n",
            "  (PERSON Tequila/NNP Picante/NNP Gourmet/NNP)\n",
            "  de/FW\n",
            "  (PERSON Inclan/NNP)\n",
            "  ./.\n",
            "  Just/NNP\n",
            "  realize/VB\n",
            "  that/DT\n",
            "  once/RB\n",
            "  you/PRP\n",
            "  taste/VBP\n",
            "  it/PRP\n",
            "  ,/,\n",
            "  you/PRP\n",
            "  will/MD\n",
            "  never/RB\n",
            "  want/VB\n",
            "  to/TO\n",
            "  use/VB\n",
            "  any/DT\n",
            "  other/JJ\n",
            "  sauce./NN\n",
            "  </NNP\n",
            "  br/NN\n",
            "  //NNP\n",
            "  >/NNP\n",
            "  </NNP\n",
            "  br/NN\n",
            "  //NNP\n",
            "  >/NNP\n",
            "  Thank/NNP\n",
            "  you/PRP\n",
            "  for/IN\n",
            "  the/DT\n",
            "  personal/JJ\n",
            "  ,/,\n",
            "  incredible/JJ\n",
            "  service/NN\n",
            "  !/.)\n"
          ]
        },
        {
          "output_type": "stream",
          "name": "stderr",
          "text": [
            "[nltk_data] Downloading package maxent_ne_chunker to\n",
            "[nltk_data]     /root/nltk_data...\n",
            "[nltk_data]   Package maxent_ne_chunker is already up-to-date!\n",
            "[nltk_data] Downloading package words to /root/nltk_data...\n",
            "[nltk_data]   Unzipping corpora/words.zip.\n"
          ]
        }
      ]
    },
    {
      "cell_type": "code",
      "source": [],
      "metadata": {
        "id": "Yh9MQYj9ZBzq"
      },
      "execution_count": null,
      "outputs": []
    },
    {
      "cell_type": "markdown",
      "source": [
        "#Step 1: VADER Seniment Scoring\n",
        "(Valence Aware Dictionary for Sentiment Reasoning). Doesn't analysis relations between words but look at the word as +ve/-ve or neu to predict the sentiment.\n",
        "Here we use Bag of Word Approach"
      ],
      "metadata": {
        "id": "6CTCG2umazU7"
      }
    },
    {
      "cell_type": "code",
      "source": [
        "from nltk.sentiment import SentimentIntensityAnalyzer\n",
        "from tqdm import tqdm\n",
        "nltk.download('vader_lexicon')\n",
        "\n",
        "sia = SentimentIntensityAnalyzer()\n"
      ],
      "metadata": {
        "colab": {
          "base_uri": "https://localhost:8080/"
        },
        "id": "Z8etZjLZbdtK",
        "outputId": "7dd54ddc-a6d0-4cc1-bc05-619c4d4323f9"
      },
      "execution_count": null,
      "outputs": [
        {
          "output_type": "stream",
          "name": "stderr",
          "text": [
            "[nltk_data] Downloading package vader_lexicon to /root/nltk_data...\n"
          ]
        }
      ]
    },
    {
      "cell_type": "code",
      "source": [
        "sia.polarity_scores(\"I am so happy\")"
      ],
      "metadata": {
        "colab": {
          "base_uri": "https://localhost:8080/"
        },
        "id": "_AFeT47IdbdF",
        "outputId": "c0d8491a-b854-44e8-adeb-96c26822c294"
      },
      "execution_count": null,
      "outputs": [
        {
          "output_type": "execute_result",
          "data": {
            "text/plain": [
              "{'neg': 0.0, 'neu': 0.334, 'pos': 0.666, 'compound': 0.6115}"
            ]
          },
          "metadata": {},
          "execution_count": 43
        }
      ]
    },
    {
      "cell_type": "code",
      "source": [
        "sia.polarity_scores(example)"
      ],
      "metadata": {
        "colab": {
          "base_uri": "https://localhost:8080/"
        },
        "id": "6E8Wx59AdvdD",
        "outputId": "5e9aa2e7-c6cf-4cdb-ae2c-c453fe91f57f"
      },
      "execution_count": null,
      "outputs": [
        {
          "output_type": "execute_result",
          "data": {
            "text/plain": [
              "{'neg': 0.017, 'neu': 0.846, 'pos': 0.137, 'compound': 0.9746}"
            ]
          },
          "metadata": {},
          "execution_count": 44
        }
      ]
    },
    {
      "cell_type": "markdown",
      "source": [
        "Run the polarity score on the entire dataset"
      ],
      "metadata": {
        "id": "1rI1GJn7e1Pb"
      }
    },
    {
      "cell_type": "code",
      "source": [
        "res = {} # dict to store polarity score\n",
        "for i, row in tqdm(df.iterrows(),total = len(df)):\n",
        "  text = row[\"Text\"]\n",
        "  myid = row[\"Id\"]\n",
        "  res[myid] = sia.polarity_scores(text)\n",
        "  \n"
      ],
      "metadata": {
        "colab": {
          "base_uri": "https://localhost:8080/"
        },
        "id": "AUaaJr7me4zr",
        "outputId": "1becab74-6b71-4cea-d547-168bedb1161d"
      },
      "execution_count": null,
      "outputs": [
        {
          "output_type": "stream",
          "name": "stderr",
          "text": [
            "100%|██████████| 500/500 [00:00<00:00, 1153.48it/s]\n"
          ]
        }
      ]
    },
    {
      "cell_type": "code",
      "source": [
        "vaders = pd.DataFrame(res).T\n",
        "vaders = vaders.reset_index().rename(columns={'index':'Id'})\n",
        "# rename so that we can merge it to our original df\n",
        "vaders = vaders.merge(df, how='left')\n",
        "# Now this df contains sentiment scores and metadata"
      ],
      "metadata": {
        "colab": {
          "base_uri": "https://localhost:8080/",
          "height": 1000
        },
        "id": "n0gw8Iqoe_5b",
        "outputId": "877bcae2-5a88-4a30-b97d-7fa6206348c8"
      },
      "execution_count": null,
      "outputs": [
        {
          "output_type": "execute_result",
          "data": {
            "text/plain": [
              "      Id    neg    neu    pos  compound   ProductId          UserId  \\\n",
              "0      1  0.000  0.695  0.305    0.9441  B001E4KFG0  A3SGXH7AUHU8GW   \n",
              "1      2  0.138  0.862  0.000   -0.5664  B00813GRG4  A1D87F6ZCVE5NK   \n",
              "2      3  0.091  0.754  0.155    0.8265  B000LQOCH0   ABXLMWJIXXAIN   \n",
              "3      4  0.000  1.000  0.000    0.0000  B000UA0QIQ  A395BORC6FGVXV   \n",
              "4      5  0.000  0.552  0.448    0.9468  B006K2ZZ7K  A1UQRSCLF8GW1T   \n",
              "..   ...    ...    ...    ...       ...         ...             ...   \n",
              "495  496  0.000  0.554  0.446    0.9725  B000G6RYNE   APGAA43E3WPN7   \n",
              "496  497  0.059  0.799  0.142    0.7833  B000G6RYNE    ABR7HU5H1KNE   \n",
              "497  498  0.025  0.762  0.212    0.9848  B000G6RYNE   AJQD2WWJYOYFQ   \n",
              "498  499  0.041  0.904  0.055    0.1280  B000G6RYNE  A16YH487W9ZYO0   \n",
              "499  500  0.000  0.678  0.322    0.9811  B000G6RYNE   A83YQC1XOU4CS   \n",
              "\n",
              "                         ProfileName  HelpfulnessNumerator  \\\n",
              "0                         delmartian                     1   \n",
              "1                             dll pa                     0   \n",
              "2    Natalia Corres \"Natalia Corres\"                     1   \n",
              "3                               Karl                     3   \n",
              "4      Michael D. Bigham \"M. Wassir\"                     0   \n",
              "..                               ...                   ...   \n",
              "495                           Darren                     0   \n",
              "496                            Keith                     0   \n",
              "497                          bubbles                     0   \n",
              "498                 Bruce G. Lindsay                     0   \n",
              "499                         J. Baker                     0   \n",
              "\n",
              "     HelpfulnessDenominator  Score        Time  \\\n",
              "0                         1      5  1303862400   \n",
              "1                         0      1  1346976000   \n",
              "2                         1      4  1219017600   \n",
              "3                         3      2  1307923200   \n",
              "4                         0      5  1350777600   \n",
              "..                      ...    ...         ...   \n",
              "495                       0      5  1201392000   \n",
              "496                       0      5  1196726400   \n",
              "497                       0      4  1186617600   \n",
              "498                       0      4  1184198400   \n",
              "499                       0      5  1183420800   \n",
              "\n",
              "                             Summary  \\\n",
              "0              Good Quality Dog Food   \n",
              "1                  Not as Advertised   \n",
              "2              \"Delight\" says it all   \n",
              "3                     Cough Medicine   \n",
              "4                        Great taffy   \n",
              "..                               ...   \n",
              "495                    amazing chips   \n",
              "496                   Best Chip Ever   \n",
              "497  Tangy, spicy, and sweet- oh my!   \n",
              "498        An indulgence with a bite   \n",
              "499                The best I've had   \n",
              "\n",
              "                                                  Text  \n",
              "0    I have bought several of the Vitality canned d...  \n",
              "1    Product arrived labeled as Jumbo Salted Peanut...  \n",
              "2    This is a confection that has been around a fe...  \n",
              "3    If you are looking for the secret ingredient i...  \n",
              "4    Great taffy at a great price.  There was a wid...  \n",
              "..                                                 ...  \n",
              "495  i rarely eat chips but i saw these and tried t...  \n",
              "496  This is easily the best potato chip that I hav...  \n",
              "497  Kettle Chips Spicy Thai potato chips have the ...  \n",
              "498  Okay, I should not eat potato chips, nor shoul...  \n",
              "499  I don't write very many reviews but I have to ...  \n",
              "\n",
              "[500 rows x 14 columns]"
            ],
            "text/html": [
              "\n",
              "  <div id=\"df-c0a29a12-5a4f-4064-b941-c9c46f949297\">\n",
              "    <div class=\"colab-df-container\">\n",
              "      <div>\n",
              "<style scoped>\n",
              "    .dataframe tbody tr th:only-of-type {\n",
              "        vertical-align: middle;\n",
              "    }\n",
              "\n",
              "    .dataframe tbody tr th {\n",
              "        vertical-align: top;\n",
              "    }\n",
              "\n",
              "    .dataframe thead th {\n",
              "        text-align: right;\n",
              "    }\n",
              "</style>\n",
              "<table border=\"1\" class=\"dataframe\">\n",
              "  <thead>\n",
              "    <tr style=\"text-align: right;\">\n",
              "      <th></th>\n",
              "      <th>Id</th>\n",
              "      <th>neg</th>\n",
              "      <th>neu</th>\n",
              "      <th>pos</th>\n",
              "      <th>compound</th>\n",
              "      <th>ProductId</th>\n",
              "      <th>UserId</th>\n",
              "      <th>ProfileName</th>\n",
              "      <th>HelpfulnessNumerator</th>\n",
              "      <th>HelpfulnessDenominator</th>\n",
              "      <th>Score</th>\n",
              "      <th>Time</th>\n",
              "      <th>Summary</th>\n",
              "      <th>Text</th>\n",
              "    </tr>\n",
              "  </thead>\n",
              "  <tbody>\n",
              "    <tr>\n",
              "      <th>0</th>\n",
              "      <td>1</td>\n",
              "      <td>0.000</td>\n",
              "      <td>0.695</td>\n",
              "      <td>0.305</td>\n",
              "      <td>0.9441</td>\n",
              "      <td>B001E4KFG0</td>\n",
              "      <td>A3SGXH7AUHU8GW</td>\n",
              "      <td>delmartian</td>\n",
              "      <td>1</td>\n",
              "      <td>1</td>\n",
              "      <td>5</td>\n",
              "      <td>1303862400</td>\n",
              "      <td>Good Quality Dog Food</td>\n",
              "      <td>I have bought several of the Vitality canned d...</td>\n",
              "    </tr>\n",
              "    <tr>\n",
              "      <th>1</th>\n",
              "      <td>2</td>\n",
              "      <td>0.138</td>\n",
              "      <td>0.862</td>\n",
              "      <td>0.000</td>\n",
              "      <td>-0.5664</td>\n",
              "      <td>B00813GRG4</td>\n",
              "      <td>A1D87F6ZCVE5NK</td>\n",
              "      <td>dll pa</td>\n",
              "      <td>0</td>\n",
              "      <td>0</td>\n",
              "      <td>1</td>\n",
              "      <td>1346976000</td>\n",
              "      <td>Not as Advertised</td>\n",
              "      <td>Product arrived labeled as Jumbo Salted Peanut...</td>\n",
              "    </tr>\n",
              "    <tr>\n",
              "      <th>2</th>\n",
              "      <td>3</td>\n",
              "      <td>0.091</td>\n",
              "      <td>0.754</td>\n",
              "      <td>0.155</td>\n",
              "      <td>0.8265</td>\n",
              "      <td>B000LQOCH0</td>\n",
              "      <td>ABXLMWJIXXAIN</td>\n",
              "      <td>Natalia Corres \"Natalia Corres\"</td>\n",
              "      <td>1</td>\n",
              "      <td>1</td>\n",
              "      <td>4</td>\n",
              "      <td>1219017600</td>\n",
              "      <td>\"Delight\" says it all</td>\n",
              "      <td>This is a confection that has been around a fe...</td>\n",
              "    </tr>\n",
              "    <tr>\n",
              "      <th>3</th>\n",
              "      <td>4</td>\n",
              "      <td>0.000</td>\n",
              "      <td>1.000</td>\n",
              "      <td>0.000</td>\n",
              "      <td>0.0000</td>\n",
              "      <td>B000UA0QIQ</td>\n",
              "      <td>A395BORC6FGVXV</td>\n",
              "      <td>Karl</td>\n",
              "      <td>3</td>\n",
              "      <td>3</td>\n",
              "      <td>2</td>\n",
              "      <td>1307923200</td>\n",
              "      <td>Cough Medicine</td>\n",
              "      <td>If you are looking for the secret ingredient i...</td>\n",
              "    </tr>\n",
              "    <tr>\n",
              "      <th>4</th>\n",
              "      <td>5</td>\n",
              "      <td>0.000</td>\n",
              "      <td>0.552</td>\n",
              "      <td>0.448</td>\n",
              "      <td>0.9468</td>\n",
              "      <td>B006K2ZZ7K</td>\n",
              "      <td>A1UQRSCLF8GW1T</td>\n",
              "      <td>Michael D. Bigham \"M. Wassir\"</td>\n",
              "      <td>0</td>\n",
              "      <td>0</td>\n",
              "      <td>5</td>\n",
              "      <td>1350777600</td>\n",
              "      <td>Great taffy</td>\n",
              "      <td>Great taffy at a great price.  There was a wid...</td>\n",
              "    </tr>\n",
              "    <tr>\n",
              "      <th>...</th>\n",
              "      <td>...</td>\n",
              "      <td>...</td>\n",
              "      <td>...</td>\n",
              "      <td>...</td>\n",
              "      <td>...</td>\n",
              "      <td>...</td>\n",
              "      <td>...</td>\n",
              "      <td>...</td>\n",
              "      <td>...</td>\n",
              "      <td>...</td>\n",
              "      <td>...</td>\n",
              "      <td>...</td>\n",
              "      <td>...</td>\n",
              "      <td>...</td>\n",
              "    </tr>\n",
              "    <tr>\n",
              "      <th>495</th>\n",
              "      <td>496</td>\n",
              "      <td>0.000</td>\n",
              "      <td>0.554</td>\n",
              "      <td>0.446</td>\n",
              "      <td>0.9725</td>\n",
              "      <td>B000G6RYNE</td>\n",
              "      <td>APGAA43E3WPN7</td>\n",
              "      <td>Darren</td>\n",
              "      <td>0</td>\n",
              "      <td>0</td>\n",
              "      <td>5</td>\n",
              "      <td>1201392000</td>\n",
              "      <td>amazing chips</td>\n",
              "      <td>i rarely eat chips but i saw these and tried t...</td>\n",
              "    </tr>\n",
              "    <tr>\n",
              "      <th>496</th>\n",
              "      <td>497</td>\n",
              "      <td>0.059</td>\n",
              "      <td>0.799</td>\n",
              "      <td>0.142</td>\n",
              "      <td>0.7833</td>\n",
              "      <td>B000G6RYNE</td>\n",
              "      <td>ABR7HU5H1KNE</td>\n",
              "      <td>Keith</td>\n",
              "      <td>0</td>\n",
              "      <td>0</td>\n",
              "      <td>5</td>\n",
              "      <td>1196726400</td>\n",
              "      <td>Best Chip Ever</td>\n",
              "      <td>This is easily the best potato chip that I hav...</td>\n",
              "    </tr>\n",
              "    <tr>\n",
              "      <th>497</th>\n",
              "      <td>498</td>\n",
              "      <td>0.025</td>\n",
              "      <td>0.762</td>\n",
              "      <td>0.212</td>\n",
              "      <td>0.9848</td>\n",
              "      <td>B000G6RYNE</td>\n",
              "      <td>AJQD2WWJYOYFQ</td>\n",
              "      <td>bubbles</td>\n",
              "      <td>0</td>\n",
              "      <td>0</td>\n",
              "      <td>4</td>\n",
              "      <td>1186617600</td>\n",
              "      <td>Tangy, spicy, and sweet- oh my!</td>\n",
              "      <td>Kettle Chips Spicy Thai potato chips have the ...</td>\n",
              "    </tr>\n",
              "    <tr>\n",
              "      <th>498</th>\n",
              "      <td>499</td>\n",
              "      <td>0.041</td>\n",
              "      <td>0.904</td>\n",
              "      <td>0.055</td>\n",
              "      <td>0.1280</td>\n",
              "      <td>B000G6RYNE</td>\n",
              "      <td>A16YH487W9ZYO0</td>\n",
              "      <td>Bruce G. Lindsay</td>\n",
              "      <td>0</td>\n",
              "      <td>0</td>\n",
              "      <td>4</td>\n",
              "      <td>1184198400</td>\n",
              "      <td>An indulgence with a bite</td>\n",
              "      <td>Okay, I should not eat potato chips, nor shoul...</td>\n",
              "    </tr>\n",
              "    <tr>\n",
              "      <th>499</th>\n",
              "      <td>500</td>\n",
              "      <td>0.000</td>\n",
              "      <td>0.678</td>\n",
              "      <td>0.322</td>\n",
              "      <td>0.9811</td>\n",
              "      <td>B000G6RYNE</td>\n",
              "      <td>A83YQC1XOU4CS</td>\n",
              "      <td>J. Baker</td>\n",
              "      <td>0</td>\n",
              "      <td>0</td>\n",
              "      <td>5</td>\n",
              "      <td>1183420800</td>\n",
              "      <td>The best I've had</td>\n",
              "      <td>I don't write very many reviews but I have to ...</td>\n",
              "    </tr>\n",
              "  </tbody>\n",
              "</table>\n",
              "<p>500 rows × 14 columns</p>\n",
              "</div>\n",
              "      <button class=\"colab-df-convert\" onclick=\"convertToInteractive('df-c0a29a12-5a4f-4064-b941-c9c46f949297')\"\n",
              "              title=\"Convert this dataframe to an interactive table.\"\n",
              "              style=\"display:none;\">\n",
              "        \n",
              "  <svg xmlns=\"http://www.w3.org/2000/svg\" height=\"24px\"viewBox=\"0 0 24 24\"\n",
              "       width=\"24px\">\n",
              "    <path d=\"M0 0h24v24H0V0z\" fill=\"none\"/>\n",
              "    <path d=\"M18.56 5.44l.94 2.06.94-2.06 2.06-.94-2.06-.94-.94-2.06-.94 2.06-2.06.94zm-11 1L8.5 8.5l.94-2.06 2.06-.94-2.06-.94L8.5 2.5l-.94 2.06-2.06.94zm10 10l.94 2.06.94-2.06 2.06-.94-2.06-.94-.94-2.06-.94 2.06-2.06.94z\"/><path d=\"M17.41 7.96l-1.37-1.37c-.4-.4-.92-.59-1.43-.59-.52 0-1.04.2-1.43.59L10.3 9.45l-7.72 7.72c-.78.78-.78 2.05 0 2.83L4 21.41c.39.39.9.59 1.41.59.51 0 1.02-.2 1.41-.59l7.78-7.78 2.81-2.81c.8-.78.8-2.07 0-2.86zM5.41 20L4 18.59l7.72-7.72 1.47 1.35L5.41 20z\"/>\n",
              "  </svg>\n",
              "      </button>\n",
              "      \n",
              "  <style>\n",
              "    .colab-df-container {\n",
              "      display:flex;\n",
              "      flex-wrap:wrap;\n",
              "      gap: 12px;\n",
              "    }\n",
              "\n",
              "    .colab-df-convert {\n",
              "      background-color: #E8F0FE;\n",
              "      border: none;\n",
              "      border-radius: 50%;\n",
              "      cursor: pointer;\n",
              "      display: none;\n",
              "      fill: #1967D2;\n",
              "      height: 32px;\n",
              "      padding: 0 0 0 0;\n",
              "      width: 32px;\n",
              "    }\n",
              "\n",
              "    .colab-df-convert:hover {\n",
              "      background-color: #E2EBFA;\n",
              "      box-shadow: 0px 1px 2px rgba(60, 64, 67, 0.3), 0px 1px 3px 1px rgba(60, 64, 67, 0.15);\n",
              "      fill: #174EA6;\n",
              "    }\n",
              "\n",
              "    [theme=dark] .colab-df-convert {\n",
              "      background-color: #3B4455;\n",
              "      fill: #D2E3FC;\n",
              "    }\n",
              "\n",
              "    [theme=dark] .colab-df-convert:hover {\n",
              "      background-color: #434B5C;\n",
              "      box-shadow: 0px 1px 3px 1px rgba(0, 0, 0, 0.15);\n",
              "      filter: drop-shadow(0px 1px 2px rgba(0, 0, 0, 0.3));\n",
              "      fill: #FFFFFF;\n",
              "    }\n",
              "  </style>\n",
              "\n",
              "      <script>\n",
              "        const buttonEl =\n",
              "          document.querySelector('#df-c0a29a12-5a4f-4064-b941-c9c46f949297 button.colab-df-convert');\n",
              "        buttonEl.style.display =\n",
              "          google.colab.kernel.accessAllowed ? 'block' : 'none';\n",
              "\n",
              "        async function convertToInteractive(key) {\n",
              "          const element = document.querySelector('#df-c0a29a12-5a4f-4064-b941-c9c46f949297');\n",
              "          const dataTable =\n",
              "            await google.colab.kernel.invokeFunction('convertToInteractive',\n",
              "                                                     [key], {});\n",
              "          if (!dataTable) return;\n",
              "\n",
              "          const docLinkHtml = 'Like what you see? Visit the ' +\n",
              "            '<a target=\"_blank\" href=https://colab.research.google.com/notebooks/data_table.ipynb>data table notebook</a>'\n",
              "            + ' to learn more about interactive tables.';\n",
              "          element.innerHTML = '';\n",
              "          dataTable['output_type'] = 'display_data';\n",
              "          await google.colab.output.renderOutput(dataTable, element);\n",
              "          const docLink = document.createElement('div');\n",
              "          docLink.innerHTML = docLinkHtml;\n",
              "          element.appendChild(docLink);\n",
              "        }\n",
              "      </script>\n",
              "    </div>\n",
              "  </div>\n",
              "  "
            ]
          },
          "metadata": {},
          "execution_count": 61
        }
      ]
    },
    {
      "cell_type": "markdown",
      "source": [
        "# Plot the VADER results\n",
        "Let's test weather positive reviews are co-related to higher stars"
      ],
      "metadata": {
        "id": "sSRS-j9ioeoZ"
      }
    },
    {
      "cell_type": "code",
      "source": [
        "ax = sns.barplot(data=vaders, x = 'Score', y = \"compound\")\n",
        "ax.set_title(\"Compound Score by Amazon Star Review\")\n",
        "plt.show()"
      ],
      "metadata": {
        "colab": {
          "base_uri": "https://localhost:8080/",
          "height": 477
        },
        "id": "ot1X9l1QlzaW",
        "outputId": "d2b58e73-adf2-4c09-e615-e5445ab1d25c"
      },
      "execution_count": null,
      "outputs": [
        {
          "output_type": "display_data",
          "data": {
            "text/plain": [
              "<Figure size 640x480 with 1 Axes>"
            ],
            "image/png": "[encoded data removed]"
          },
          "metadata": {}
        }
      ]
    },
    {
      "cell_type": "code",
      "source": [
        "fig,axs = plt.subplots(1,3,figsize= (15,5))\n",
        "sns.barplot(data=vaders,x = \"Score\", y = 'pos',ax= axs[0])\n",
        "sns.barplot(data=vaders,x = \"Score\", y = 'neg',ax= axs[1])\n",
        "sns.barplot(data=vaders,x = \"Score\", y = \"neu\",ax= axs[2])\n",
        "axs[0].set_title(\"Positive\")\n",
        "axs[1].set_title(\"Negative\")\n",
        "axs[2].set_title(\"Neutral\")\n",
        "plt.tight_layout()\n",
        "plt.show()"
      ],
      "metadata": {
        "colab": {
          "base_uri": "https://localhost:8080/",
          "height": 224
        },
        "id": "LtpQMGFnpNFI",
        "outputId": "d35a7329-581b-4162-a5cc-8a52dc7d26b8"
      },
      "execution_count": null,
      "outputs": [
        {
          "output_type": "display_data",
          "data": {
            "text/plain": [
              "<Figure size 1500x500 with 3 Axes>"
            ],
            "image/png": "[encoded data removed]"
          },
          "metadata": {}
        }
      ]
    }
  ]
}